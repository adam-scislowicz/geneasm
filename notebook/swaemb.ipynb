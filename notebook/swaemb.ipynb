{
 "cells": [
  {
   "cell_type": "code",
   "execution_count": 1,
   "id": "23b19d54-39ec-4bf1-a85f-21c7b09c9179",
   "metadata": {
    "tags": []
   },
   "outputs": [
    {
     "name": "stdout",
     "output_type": "stream",
     "text": [
      "Looking in indexes: https://pypi.org/simple, https://pip.repos.neuron.amazonaws.com\n",
      "Requirement already satisfied: biopython in /home/ec2-user/anaconda3/envs/pytorch_p39/lib/python3.9/site-packages (1.81)\n",
      "Requirement already satisfied: scikit-bio in /home/ec2-user/anaconda3/envs/pytorch_p39/lib/python3.9/site-packages (0.5.8)\n",
      "Requirement already satisfied: torchinfo in /home/ec2-user/anaconda3/envs/pytorch_p39/lib/python3.9/site-packages (1.7.2)\n",
      "Requirement already satisfied: hnswlib in /home/ec2-user/anaconda3/envs/pytorch_p39/lib/python3.9/site-packages (0.7.0)\n",
      "Requirement already satisfied: numpy in /home/ec2-user/anaconda3/envs/pytorch_p39/lib/python3.9/site-packages (from biopython) (1.23.5)\n",
      "Requirement already satisfied: decorator>=3.4.2 in /home/ec2-user/anaconda3/envs/pytorch_p39/lib/python3.9/site-packages (from scikit-bio) (5.1.1)\n",
      "Requirement already satisfied: pandas>=1.5.0 in /home/ec2-user/anaconda3/envs/pytorch_p39/lib/python3.9/site-packages (from scikit-bio) (1.5.3)\n",
      "Requirement already satisfied: scipy>=1.9.0 in /home/ec2-user/anaconda3/envs/pytorch_p39/lib/python3.9/site-packages (from scikit-bio) (1.10.1)\n",
      "Requirement already satisfied: CacheControl>=0.11.5 in /home/ec2-user/anaconda3/envs/pytorch_p39/lib/python3.9/site-packages (from scikit-bio) (0.12.11)\n",
      "Requirement already satisfied: lockfile>=0.10.2 in /home/ec2-user/anaconda3/envs/pytorch_p39/lib/python3.9/site-packages (from scikit-bio) (0.12.2)\n",
      "Requirement already satisfied: hdmedians>=0.14.1 in /home/ec2-user/anaconda3/envs/pytorch_p39/lib/python3.9/site-packages (from scikit-bio) (0.14.2)\n",
      "Requirement already satisfied: h5py>=3.6.0 in /home/ec2-user/anaconda3/envs/pytorch_p39/lib/python3.9/site-packages (from scikit-bio) (3.7.0)\n",
      "Requirement already satisfied: natsort>=4.0.3 in /home/ec2-user/anaconda3/envs/pytorch_p39/lib/python3.9/site-packages (from scikit-bio) (8.3.1)\n",
      "Requirement already satisfied: IPython>=3.2.0 in /home/ec2-user/anaconda3/envs/pytorch_p39/lib/python3.9/site-packages (from scikit-bio) (7.32.0)\n",
      "Requirement already satisfied: matplotlib>=1.4.3 in /home/ec2-user/anaconda3/envs/pytorch_p39/lib/python3.9/site-packages (from scikit-bio) (3.5.3)\n",
      "Requirement already satisfied: requests in /home/ec2-user/anaconda3/envs/pytorch_p39/lib/python3.9/site-packages (from CacheControl>=0.11.5->scikit-bio) (2.28.1)\n",
      "Requirement already satisfied: msgpack>=0.5.2 in /home/ec2-user/anaconda3/envs/pytorch_p39/lib/python3.9/site-packages (from CacheControl>=0.11.5->scikit-bio) (1.0.4)\n",
      "Requirement already satisfied: Cython>=0.23 in /home/ec2-user/anaconda3/envs/pytorch_p39/lib/python3.9/site-packages (from hdmedians>=0.14.1->scikit-bio) (0.29.33)\n",
      "Requirement already satisfied: prompt-toolkit!=3.0.0,!=3.0.1,<3.1.0,>=2.0.0 in /home/ec2-user/anaconda3/envs/pytorch_p39/lib/python3.9/site-packages (from IPython>=3.2.0->scikit-bio) (3.0.36)\n",
      "Requirement already satisfied: pexpect>4.3 in /home/ec2-user/anaconda3/envs/pytorch_p39/lib/python3.9/site-packages (from IPython>=3.2.0->scikit-bio) (4.8.0)\n",
      "Requirement already satisfied: backcall in /home/ec2-user/anaconda3/envs/pytorch_p39/lib/python3.9/site-packages (from IPython>=3.2.0->scikit-bio) (0.2.0)\n",
      "Requirement already satisfied: traitlets>=4.2 in /home/ec2-user/anaconda3/envs/pytorch_p39/lib/python3.9/site-packages (from IPython>=3.2.0->scikit-bio) (5.8.1)\n",
      "Requirement already satisfied: jedi>=0.16 in /home/ec2-user/anaconda3/envs/pytorch_p39/lib/python3.9/site-packages (from IPython>=3.2.0->scikit-bio) (0.18.2)\n",
      "Requirement already satisfied: pickleshare in /home/ec2-user/anaconda3/envs/pytorch_p39/lib/python3.9/site-packages (from IPython>=3.2.0->scikit-bio) (0.7.5)\n",
      "Requirement already satisfied: matplotlib-inline in /home/ec2-user/anaconda3/envs/pytorch_p39/lib/python3.9/site-packages (from IPython>=3.2.0->scikit-bio) (0.1.6)\n",
      "Requirement already satisfied: setuptools>=18.5 in /home/ec2-user/anaconda3/envs/pytorch_p39/lib/python3.9/site-packages (from IPython>=3.2.0->scikit-bio) (65.6.3)\n",
      "Requirement already satisfied: pygments in /home/ec2-user/anaconda3/envs/pytorch_p39/lib/python3.9/site-packages (from IPython>=3.2.0->scikit-bio) (2.14.0)\n",
      "Requirement already satisfied: kiwisolver>=1.0.1 in /home/ec2-user/anaconda3/envs/pytorch_p39/lib/python3.9/site-packages (from matplotlib>=1.4.3->scikit-bio) (1.4.4)\n",
      "Requirement already satisfied: packaging>=20.0 in /home/ec2-user/anaconda3/envs/pytorch_p39/lib/python3.9/site-packages (from matplotlib>=1.4.3->scikit-bio) (21.3)\n",
      "Requirement already satisfied: cycler>=0.10 in /home/ec2-user/anaconda3/envs/pytorch_p39/lib/python3.9/site-packages (from matplotlib>=1.4.3->scikit-bio) (0.11.0)\n",
      "Requirement already satisfied: pillow>=6.2.0 in /home/ec2-user/anaconda3/envs/pytorch_p39/lib/python3.9/site-packages (from matplotlib>=1.4.3->scikit-bio) (9.2.0)\n",
      "Requirement already satisfied: pyparsing>=2.2.1 in /home/ec2-user/anaconda3/envs/pytorch_p39/lib/python3.9/site-packages (from matplotlib>=1.4.3->scikit-bio) (3.0.9)\n",
      "Requirement already satisfied: python-dateutil>=2.7 in /home/ec2-user/anaconda3/envs/pytorch_p39/lib/python3.9/site-packages (from matplotlib>=1.4.3->scikit-bio) (2.8.2)\n",
      "Requirement already satisfied: fonttools>=4.22.0 in /home/ec2-user/anaconda3/envs/pytorch_p39/lib/python3.9/site-packages (from matplotlib>=1.4.3->scikit-bio) (4.38.0)\n",
      "Requirement already satisfied: pytz>=2020.1 in /home/ec2-user/anaconda3/envs/pytorch_p39/lib/python3.9/site-packages (from pandas>=1.5.0->scikit-bio) (2022.7)\n",
      "Requirement already satisfied: parso<0.9.0,>=0.8.0 in /home/ec2-user/anaconda3/envs/pytorch_p39/lib/python3.9/site-packages (from jedi>=0.16->IPython>=3.2.0->scikit-bio) (0.8.3)\n",
      "Requirement already satisfied: ptyprocess>=0.5 in /home/ec2-user/anaconda3/envs/pytorch_p39/lib/python3.9/site-packages (from pexpect>4.3->IPython>=3.2.0->scikit-bio) (0.7.0)\n",
      "Requirement already satisfied: wcwidth in /home/ec2-user/anaconda3/envs/pytorch_p39/lib/python3.9/site-packages (from prompt-toolkit!=3.0.0,!=3.0.1,<3.1.0,>=2.0.0->IPython>=3.2.0->scikit-bio) (0.2.5)\n",
      "Requirement already satisfied: six>=1.5 in /home/ec2-user/anaconda3/envs/pytorch_p39/lib/python3.9/site-packages (from python-dateutil>=2.7->matplotlib>=1.4.3->scikit-bio) (1.16.0)\n",
      "Requirement already satisfied: charset-normalizer<3,>=2 in /home/ec2-user/anaconda3/envs/pytorch_p39/lib/python3.9/site-packages (from requests->CacheControl>=0.11.5->scikit-bio) (2.1.1)\n",
      "Requirement already satisfied: idna<4,>=2.5 in /home/ec2-user/anaconda3/envs/pytorch_p39/lib/python3.9/site-packages (from requests->CacheControl>=0.11.5->scikit-bio) (3.4)\n",
      "Requirement already satisfied: urllib3<1.27,>=1.21.1 in /home/ec2-user/anaconda3/envs/pytorch_p39/lib/python3.9/site-packages (from requests->CacheControl>=0.11.5->scikit-bio) (1.26.8)\n",
      "Requirement already satisfied: certifi>=2017.4.17 in /home/ec2-user/anaconda3/envs/pytorch_p39/lib/python3.9/site-packages (from requests->CacheControl>=0.11.5->scikit-bio) (2022.12.7)\n"
     ]
    }
   ],
   "source": [
    "!pip3 install biopython scikit-bio torchinfo hnswlib"
   ]
  },
  {
   "cell_type": "code",
   "execution_count": 2,
   "id": "a747b9fa-f269-44eb-9225-415076d82c70",
   "metadata": {
    "tags": []
   },
   "outputs": [],
   "source": [
    "cfg = dict()\n",
    "cfg['kmer_size'] = 64\n",
    "cfg['embedding_dim'] = 512\n",
    "cfg['batch_size'] = 100\n",
    "cfg['epochs'] = 10\n",
    "cfg['report_every_n_batches'] = 200\n",
    "cfg['dense_layer_units'] = 8192\n",
    "cfg['triplet_loss_margin'] = 0.25\n",
    "cfg['learning_rate'] = 0.0000075\n",
    "cfg['num_triplets'] = 100000\n",
    "cfg['max_snps'] = 10\n",
    "cfg['alphabet_size'] = 16\n",
    "cfg['max_sw_score'] = (64.0*5)\n",
    "cfg['conv1d_filters'] = [32, 64, 128]\n",
    "cfg['conv1d_kernels'] = [3, 3, 3]\n",
    "cfg['fc_output'] = 8192\n",
    "cfg['use_pytorch_amp'] = True\n",
    "cfg['force_retrain_model'] = True\n",
    "cfg['parameter_dtype'] = 'float16'\n",
    "cfg['model_bin'] = 'data/model.bin'\n",
    "cfg['triplets_path'] = 'data/triplets.np'\n",
    "cfg['triplet_swas_path'] = 'data/triplet_swas.np'"
   ]
  },
  {
   "cell_type": "code",
   "execution_count": 3,
   "id": "1d86026c-4a30-43bd-b3eb-0222dd9626eb",
   "metadata": {
    "tags": []
   },
   "outputs": [
    {
     "name": "stdout",
     "output_type": "stream",
     "text": [
      "Downloading test samples for later validation...\n",
      "./data/nucleotide-EU054331\n",
      "Done processing test samples.\n"
     ]
    }
   ],
   "source": [
    "import os\n",
    "from Bio import Entrez, SeqIO\n",
    "from Bio.Seq import Seq\n",
    "Entrez.email = 'anonymous@outlook.com'\n",
    "\n",
    "# fetch samples from Entrez, the US federal database\n",
    "# TODO: later these will be used to cross-validate as additional testing rounds.\n",
    "# This was done historically and performance was very similar to with the random data\n",
    "# supporting the training methods application to non-random input.\n",
    "\n",
    "print(\"Downloading test samples for later validation...\")\n",
    "\n",
    "DATA_DIR='./data'\n",
    "def EntrezFetch(db, accession, type='fasta', mode='text'):\n",
    "    cached_path = DATA_DIR+'/'+db+'-'+accession\n",
    "    handle = Entrez.efetch(db=db, id=accession, rettype=type, retmode=mode)\n",
    "    os.makedirs(os.path.dirname(cached_path), exist_ok=True)\n",
    "    with open(cached_path, \"w\") as f:\n",
    "        f.write(handle.read())\n",
    "    return cached_path\n",
    "\n",
    "datapath = EntrezFetch('nucleotide', 'EU054331')\n",
    "print(datapath)\n",
    "\n",
    "records = SeqIO.parse(datapath, \"fasta\")\n",
    "\n",
    "print(\"Done processing test samples.\")\n",
    "\n",
    "#for rec in records:\n",
    "#    seq = Seq(str(rec.seq))\n",
    "#    print(seq)"
   ]
  },
  {
   "cell_type": "code",
   "execution_count": 4,
   "id": "fc2b9c1c-6f0e-4c0c-88a3-eed480027969",
   "metadata": {
    "tags": []
   },
   "outputs": [
    {
     "name": "stdout",
     "output_type": "stream",
     "text": [
      "cuda:0\n"
     ]
    }
   ],
   "source": [
    "import torch\n",
    "\n",
    "if torch.cuda.is_available(): \n",
    " dev = \"cuda:0\" \n",
    "else: \n",
    " dev = \"cpu\" \n",
    "device = torch.device(dev)\n",
    "print(dev)"
   ]
  },
  {
   "cell_type": "code",
   "execution_count": 63,
   "id": "c5e9e114-46c8-48dd-a0b4-e15058a04fc9",
   "metadata": {
    "tags": []
   },
   "outputs": [],
   "source": [
    "import numpy as np\n",
    "import torch.nn as nn\n",
    "import torch.nn.functional as F\n",
    "from torchvision import datasets, transforms\n",
    "from torchinfo import summary\n",
    "from tqdm.notebook import tqdm\n",
    "\n",
    "class SWAEmb(nn.Module):\n",
    "    def __init__(self):\n",
    "        super(SWAEmb, self).__init__()\n",
    "    \n",
    "        self.linear_fc_input = (cfg['kmer_size'] - cfg['conv1d_kernels'][0] + 1) // 2\n",
    "        self.linear_fc_input = \\\n",
    "            (self.linear_fc_input - cfg['conv1d_kernels'][1] + 1) // 2\n",
    "        self.linear_fc_input = \\\n",
    "            ((self.linear_fc_input - cfg['conv1d_kernels'][2] + 1) * cfg['conv1d_filters'][2]) // 2\n",
    "        \n",
    "        self.net = nn.Sequential(\n",
    "            nn.Conv1d(cfg['alphabet_size'], cfg['conv1d_filters'][0], cfg['conv1d_kernels'][0], stride=1, padding=0),\n",
    "            nn.ReLU(),\n",
    "            nn.MaxPool1d(2),\n",
    "            nn.Conv1d(cfg['conv1d_filters'][0], cfg['conv1d_filters'][1], cfg['conv1d_kernels'][1], stride=1, padding=0),\n",
    "            nn.ReLU(),\n",
    "            nn.MaxPool1d(2),\n",
    "            nn.Conv1d(cfg['conv1d_filters'][1], cfg['conv1d_filters'][2], cfg['conv1d_kernels'][2], stride=1, padding=0),\n",
    "            nn.ReLU(),\n",
    "            nn.MaxPool1d(2),\n",
    "            nn.Flatten(),\n",
    "            nn.Linear(in_features=self.linear_fc_input, out_features=cfg['fc_output']),\n",
    "            nn.ReLU(),\n",
    "            nn.Linear(in_features=cfg['fc_output'], out_features=cfg['embedding_dim'])\n",
    "        )\n",
    "\n",
    "    def forward_once(self, x):\n",
    "        x = self.net(x)\n",
    "        return x\n",
    "\n",
    "    def forward(self, APN):\n",
    "        A = APN[:,:,:,0]\n",
    "        P = APN[:,:,:,1]\n",
    "        N = APN[:,:,:,2]\n",
    "        o1 = self.forward_once(A)\n",
    "        o2 = self.forward_once(P)\n",
    "        o3 = self.forward_once(N)\n",
    "\n",
    "        return o1, o2, o3\n",
    "\n",
    "class TripletLoss(nn.Module):\n",
    "    def __init__(self, margin=cfg['triplet_loss_margin']):\n",
    "        super(TripletLoss, self).__init__()\n",
    "        self.margin = margin\n",
    "        self.align_loss_samples = np.empty(shape=(0), dtype=cfg['parameter_dtype'])\n",
    "        self.triplet_loss_samples = np.empty(shape=(0), dtype=cfg['parameter_dtype'])\n",
    "        self.triplet_loss_margin_samples = np.empty(shape=(0), dtype=cfg['parameter_dtype'])\n",
    "        self.sw_delta = np.empty(shape=(0), dtype=cfg['parameter_dtype'])\n",
    "\n",
    "\n",
    "    # need to balance APscore ANscore delta and loss margin.\n",
    "    # I think align loss and triplet loss my be competing currently.\n",
    "    def forward(self, anchor, positive, negative, APscore, ANscore):\n",
    "        p_dist = F.cosine_similarity(anchor, positive, dim=1)\n",
    "        n_dist = F.cosine_similarity(anchor, negative, dim=1)\n",
    "        align_loss = F.mse_loss(p_dist, APscore) + F.mse_loss(n_dist, ANscore)\n",
    "        triplet_loss = F.relu(p_dist - n_dist + self.margin).mean()\n",
    "        self.align_loss_samples = np.append(self.align_loss_samples, align_loss.detach().cpu().numpy())\n",
    "        tp = p_dist.detach().cpu()\n",
    "        tn = n_dist.detach().cpu()\n",
    "        for i in range(len(p_dist)):\n",
    "            self.sw_delta = np.append(self.sw_delta, APscore-ANscore)\n",
    "        for i in range(len(p_dist)):\n",
    "            self.triplet_loss_samples = np.append(self.triplet_loss_samples, F.relu(tp[i] - tn[i]).numpy())\n",
    "        for i in range(len(p_dist)):\n",
    "            self.triplet_loss_margin_samples = np.append(self.triplet_loss_margin_samples, [F.relu(tp[i] - tn[i] + self.margin).numpy(), tp[i] - tn[i]], axis=0)\n",
    "        loss = align_loss + triplet_loss\n",
    "        loss = loss.to(torch.device(dev))\n",
    "        return loss"
   ]
  },
  {
   "cell_type": "code",
   "execution_count": 6,
   "id": "16a66456-f212-407b-8a3e-1a49a196b7a4",
   "metadata": {
    "tags": []
   },
   "outputs": [],
   "source": [
    "alphabet = ['a', 'c', 'g', 't', 'r', 'y', 's', 'w', 'k', 'm', 'b', 'd', 'h', 'v', 'n', '-']\n",
    "alphabet_to_onehoti = dict()\n",
    "onehoti_to_alphabet = dict()\n",
    "alphabet_len = len(alphabet)\n",
    "assert(alphabet_len == cfg['alphabet_size'])\n",
    "\n",
    "# populate map and reverse map\n",
    "for i, c in enumerate(alphabet):\n",
    "    alphabet_to_onehoti[c] = i\n",
    "    onehoti_to_alphabet[i] = c\n",
    "    \n",
    "def char_to_onhot(c):\n",
    "    oh = np.zeros((alphabet_len), dtype=cfg['parameter_dtype'])\n",
    "    i = alphabet_to_onehoti[c]\n",
    "    oh[i] = 1\n",
    "    return oh\n",
    "    \n",
    "def seqstr_to_onehot(seqstr):\n",
    "    size = len(seqstr)\n",
    "    oh = np.zeros((size, alphabet_len), dtype=cfg['parameter_dtype'])\n",
    "    for off, c in enumerate(seqstr):\n",
    "        i = alphabet_to_onehoti[c]\n",
    "        oh[off][i] = 1\n",
    "    return oh\n",
    "\n",
    "def onehot_to_seqstr(onehot):\n",
    "    size = onehot.shape[0]\n",
    "    seqstr = str()\n",
    "    for pos in range(size):\n",
    "        i = next((idx for idx, val in np.ndenumerate(onehot[pos,:]) if val==1))[0]\n",
    "        seqstr += onehoti_to_alphabet[i]\n",
    "    return seqstr"
   ]
  },
  {
   "cell_type": "code",
   "execution_count": 69,
   "id": "36d3d0f3-4f1a-4890-b48b-8e716781ea84",
   "metadata": {
    "tags": []
   },
   "outputs": [
    {
     "name": "stdout",
     "output_type": "stream",
     "text": [
      "Triplet 1000\n",
      "Triplet 2000\n",
      "Triplet 3000\n",
      "Triplet 4000\n",
      "Triplet 5000\n",
      "Triplet 6000\n",
      "Triplet 7000\n",
      "Triplet 8000\n",
      "Triplet 9000\n",
      "Triplet 10000\n",
      "Triplet 11000\n",
      "Triplet 12000\n",
      "Triplet 13000\n",
      "Triplet 14000\n",
      "Triplet 15000\n",
      "Triplet 16000\n",
      "Triplet 17000\n",
      "Triplet 18000\n",
      "Triplet 19000\n",
      "Triplet 20000\n",
      "Triplet 21000\n",
      "Triplet 22000\n",
      "Triplet 23000\n",
      "Triplet 24000\n",
      "Triplet 25000\n",
      "Triplet 26000\n",
      "Triplet 27000\n",
      "Triplet 28000\n",
      "Triplet 29000\n",
      "Triplet 30000\n",
      "Triplet 31000\n",
      "Triplet 32000\n",
      "Triplet 33000\n",
      "Triplet 34000\n",
      "Triplet 35000\n",
      "Triplet 36000\n",
      "Triplet 37000\n",
      "Triplet 38000\n",
      "Triplet 39000\n",
      "Triplet 40000\n",
      "Triplet 41000\n",
      "Triplet 42000\n",
      "Triplet 43000\n",
      "Triplet 44000\n",
      "Triplet 45000\n",
      "Triplet 46000\n",
      "Triplet 47000\n",
      "Triplet 48000\n",
      "Triplet 49000\n",
      "Triplet 50000\n",
      "Triplet 51000\n",
      "Triplet 52000\n",
      "Triplet 53000\n",
      "Triplet 54000\n",
      "Triplet 55000\n",
      "Triplet 56000\n",
      "Triplet 57000\n",
      "Triplet 58000\n",
      "Triplet 59000\n",
      "Triplet 60000\n",
      "Triplet 61000\n",
      "Triplet 62000\n",
      "Triplet 63000\n",
      "Triplet 64000\n",
      "Triplet 65000\n",
      "Triplet 66000\n",
      "Triplet 67000\n",
      "Triplet 68000\n",
      "Triplet 69000\n",
      "Triplet 70000\n",
      "Triplet 71000\n",
      "Triplet 72000\n",
      "Triplet 73000\n",
      "Triplet 74000\n",
      "Triplet 75000\n",
      "Triplet 76000\n",
      "Triplet 77000\n",
      "Triplet 78000\n",
      "Triplet 79000\n",
      "Triplet 80000\n",
      "Triplet 81000\n",
      "Triplet 82000\n",
      "Triplet 83000\n",
      "Triplet 84000\n",
      "Triplet 85000\n",
      "Triplet 86000\n",
      "Triplet 87000\n",
      "Triplet 88000\n",
      "Triplet 89000\n",
      "Triplet 90000\n",
      "Triplet 91000\n",
      "Triplet 92000\n",
      "Triplet 93000\n",
      "Triplet 94000\n",
      "Triplet 95000\n",
      "Triplet 96000\n",
      "Triplet 97000\n",
      "Triplet 98000\n",
      "Triplet 99000\n",
      "Triplet 100000\n",
      "Print auto-scaling triplet_swas...\n"
     ]
    },
    {
     "ename": "TypeError",
     "evalue": "only integer scalar arrays can be converted to a scalar index",
     "output_type": "error",
     "traceback": [
      "\u001b[0;31m---------------------------------------------------------------------------\u001b[0m",
      "\u001b[0;31mTypeError\u001b[0m                                 Traceback (most recent call last)",
      "\u001b[0;32m/tmp/ipykernel_9856/2125000295.py\u001b[0m in \u001b[0;36m<cell line: 109>\u001b[0;34m()\u001b[0m\n\u001b[1;32m    113\u001b[0m     \u001b[0mprint\u001b[0m\u001b[0;34m(\u001b[0m\u001b[0;34m\"done loading triplets from file.\"\u001b[0m\u001b[0;34m)\u001b[0m\u001b[0;34m\u001b[0m\u001b[0;34m\u001b[0m\u001b[0m\n\u001b[1;32m    114\u001b[0m \u001b[0;32melse\u001b[0m\u001b[0;34m:\u001b[0m\u001b[0;34m\u001b[0m\u001b[0;34m\u001b[0m\u001b[0m\n\u001b[0;32m--> 115\u001b[0;31m     triplets, triplet_swas = generate_triplets_2(num_triplets=cfg['num_triplets'],\n\u001b[0m\u001b[1;32m    116\u001b[0m                                    \u001b[0mphase_delta_min\u001b[0m\u001b[0;34m=\u001b[0m\u001b[0;34m-\u001b[0m\u001b[0mint\u001b[0m\u001b[0;34m(\u001b[0m\u001b[0mcfg\u001b[0m\u001b[0;34m[\u001b[0m\u001b[0;34m'kmer_size'\u001b[0m\u001b[0;34m]\u001b[0m\u001b[0;34m)\u001b[0m\u001b[0;34m,\u001b[0m\u001b[0;34m\u001b[0m\u001b[0;34m\u001b[0m\u001b[0m\n\u001b[1;32m    117\u001b[0m                                    \u001b[0mphase_delta_max\u001b[0m\u001b[0;34m=\u001b[0m\u001b[0mint\u001b[0m\u001b[0;34m(\u001b[0m\u001b[0mcfg\u001b[0m\u001b[0;34m[\u001b[0m\u001b[0;34m'kmer_size'\u001b[0m\u001b[0;34m]\u001b[0m\u001b[0;34m)\u001b[0m\u001b[0;34m,\u001b[0m\u001b[0;34m\u001b[0m\u001b[0;34m\u001b[0m\u001b[0m\n",
      "\u001b[0;32m/tmp/ipykernel_9856/2125000295.py\u001b[0m in \u001b[0;36mgenerate_triplets_2\u001b[0;34m(num_triplets, phase_delta_min, phase_delta_max, max_snps, ndelta_phase, ndelta_snps)\u001b[0m\n\u001b[1;32m     96\u001b[0m \u001b[0;34m\u001b[0m\u001b[0m\n\u001b[1;32m     97\u001b[0m     \u001b[0mprint\u001b[0m\u001b[0;34m(\u001b[0m\u001b[0;34m\"Print auto-scaling triplet_swas...\"\u001b[0m\u001b[0;34m)\u001b[0m\u001b[0;34m\u001b[0m\u001b[0;34m\u001b[0m\u001b[0m\n\u001b[0;32m---> 98\u001b[0;31m     \u001b[0mminSwa\u001b[0m \u001b[0;34m=\u001b[0m \u001b[0mnp\u001b[0m\u001b[0;34m.\u001b[0m\u001b[0mconcatenate\u001b[0m\u001b[0;34m(\u001b[0m\u001b[0mtriplet_swas\u001b[0m\u001b[0;34m[\u001b[0m\u001b[0;34m:\u001b[0m\u001b[0;34m,\u001b[0m\u001b[0;36m0\u001b[0m\u001b[0;34m]\u001b[0m\u001b[0;34m,\u001b[0m \u001b[0mtriplet_swas\u001b[0m\u001b[0;34m[\u001b[0m\u001b[0;34m:\u001b[0m\u001b[0;34m,\u001b[0m\u001b[0;36m1\u001b[0m\u001b[0;34m]\u001b[0m\u001b[0;34m)\u001b[0m\u001b[0;34m\u001b[0m\u001b[0;34m\u001b[0m\u001b[0m\n\u001b[0m\u001b[1;32m     99\u001b[0m     \u001b[0mmaxSwa\u001b[0m \u001b[0;34m=\u001b[0m \u001b[0mnp\u001b[0m\u001b[0;34m.\u001b[0m\u001b[0mconcatenate\u001b[0m\u001b[0;34m(\u001b[0m\u001b[0mtriplet_swas\u001b[0m\u001b[0;34m[\u001b[0m\u001b[0;34m:\u001b[0m\u001b[0;34m,\u001b[0m\u001b[0;36m0\u001b[0m\u001b[0;34m]\u001b[0m\u001b[0;34m,\u001b[0m \u001b[0mtriplet_swas\u001b[0m\u001b[0;34m[\u001b[0m\u001b[0;34m:\u001b[0m\u001b[0;34m,\u001b[0m\u001b[0;36m1\u001b[0m\u001b[0;34m]\u001b[0m\u001b[0;34m)\u001b[0m\u001b[0;34m\u001b[0m\u001b[0;34m\u001b[0m\u001b[0m\n\u001b[1;32m    100\u001b[0m     \u001b[0mswaDelta\u001b[0m \u001b[0;34m=\u001b[0m \u001b[0mmaxSwa\u001b[0m \u001b[0;34m-\u001b[0m \u001b[0mminSwa\u001b[0m\u001b[0;34m\u001b[0m\u001b[0;34m\u001b[0m\u001b[0m\n",
      "\u001b[0;32m~/anaconda3/envs/pytorch_p39/lib/python3.9/site-packages/numpy/core/overrides.py\u001b[0m in \u001b[0;36mconcatenate\u001b[0;34m(*args, **kwargs)\u001b[0m\n",
      "\u001b[0;31mTypeError\u001b[0m: only integer scalar arrays can be converted to a scalar index"
     ]
    }
   ],
   "source": [
    "from skbio.alignment import StripedSmithWaterman\n",
    "\n",
    "def gen_random_seq(seqlen, alphabet):\n",
    "    seq = \"\"\n",
    "    alphabet_len = len(alphabet)\n",
    "    for pos in range(seqlen):\n",
    "        cidx = np.random.choice(alphabet_len)\n",
    "        seq += alphabet[cidx]\n",
    "    return seq\n",
    "\n",
    "def generate_triplets_2(num_triplets, phase_delta_min, phase_delta_max, max_snps,\n",
    "                        ndelta_phase, ndelta_snps):\n",
    "    assert(ndelta_phase != 0)\n",
    "    assert(ndelta_snps != 0)\n",
    "        \n",
    "    m = 0\n",
    "    triplets = np.empty(shape=(num_triplets, int(cfg['kmer_size']), alphabet_len, 3), dtype=cfg['parameter_dtype'])\n",
    "    triplet_swas = np.empty(shape=(num_triplets, 2), dtype=cfg['parameter_dtype'])\n",
    "    \n",
    "    while m < num_triplets:\n",
    "        \n",
    "        # generate A(nchor)\n",
    "        phase_gamut = (phase_delta_max - phase_delta_min)\n",
    "        # TODO: Use weighted alphabet here as well\n",
    "        SA = gen_random_seq(int(cfg['kmer_size'])+(phase_gamut * 2), alphabet=['g', 'c', 'a', 't'])\n",
    "        A = SA[phase_gamut:int(cfg['kmer_size'])+phase_gamut]\n",
    "    \n",
    "        # generate permutation spec for P(ositive)\n",
    "        phase_delta = np.random.choice(phase_delta_max - phase_delta_min) + phase_delta_min\n",
    "        num_snps = np.random.choice(max_snps)\n",
    "    \n",
    "        # generate permutation spec for N(egative)\n",
    "        while True:\n",
    "            nphase_delta = np.random.choice(ndelta_phase)\n",
    "            if phase_delta < 0:\n",
    "                nphase_delta *= -1\n",
    "            nphase_delta = phase_delta + nphase_delta\n",
    "            nnum_snps = np.random.choice(ndelta_snps) + num_snps\n",
    "            \n",
    "            # recalculate if N is no further from the anchor than P\n",
    "            if (nphase_delta == phase_delta) and (num_snps == nnum_snps):\n",
    "                continue\n",
    "            break\n",
    "    \n",
    "        P = SA[phase_gamut+phase_delta:int(cfg['kmer_size'])+phase_gamut+phase_delta]\n",
    "        offs = set()\n",
    "        for i in range(num_snps):\n",
    "            while True:\n",
    "                off = np.random.choice(cfg['kmer_size'])\n",
    "                idx = np.random.choice(len(alphabet))\n",
    "                if P[off] == alphabet[idx]:\n",
    "                    continue\n",
    "                if off in offs:\n",
    "                    continue\n",
    "                offs.add(off)\n",
    "                l=list(P)\n",
    "                l[off] = alphabet[idx]\n",
    "                P=''.join(l)\n",
    "                break\n",
    "            \n",
    "        N = SA[phase_gamut+nphase_delta:int(cfg['kmer_size'])+phase_gamut+nphase_delta]\n",
    "        offs = set()\n",
    "        for i in range(nnum_snps):\n",
    "            while True:\n",
    "                off = np.random.choice(cfg['kmer_size'])\n",
    "                idx = np.random.choice(len(alphabet))\n",
    "                if N[off] == alphabet[idx]:\n",
    "                    continue\n",
    "                if off in offs:\n",
    "                    continue\n",
    "                offs.add(off)\n",
    "                l=list(N)\n",
    "                l[off] = alphabet[idx]\n",
    "                N=''.join(l)\n",
    "                break\n",
    "    \n",
    "        #print(\"A:\", A)\n",
    "        #print(\"P:\", phase_delta, P)\n",
    "        #print(\"N:\", nphase_delta, N)\n",
    "        triplets[m,:,:,0] = seqstr_to_onehot(A)\n",
    "        triplets[m,:,:,1] = seqstr_to_onehot(P)\n",
    "        triplets[m,:,:,2] = seqstr_to_onehot(N)\n",
    "        ssw = StripedSmithWaterman(A, score_size=2)\n",
    "        \n",
    "        # TODO: The SWAs (optimal alignment scores) are packed to close to each other\n",
    "        # need to set SW params to acheive higher score gamut without distortion\n",
    "        # then apply affine transforation (scale) to fill paramater datatype repr.\n",
    "        triplet_swas[m,0] = torch.tensor(ssw(P)['optimal_alignment_score'])\n",
    "        triplet_swas[m,1] = torch.tensor(ssw(N)['optimal_alignment_score'])\n",
    "        if (triplet_swas[m,0] == triplet_swas[m,1]):\n",
    "            continue\n",
    "        \n",
    "        m += 1\n",
    "        if (m % 1000) == 0:\n",
    "            print(\"Triplet {}\".format(m))\n",
    "    \n",
    "    print(\"Print auto-scaling triplet_swas...\")\n",
    "    minSwa = np.concatenate(triplet_swas[:,0], triplet_swas[:,1])\n",
    "    maxSwa = np.concatenate(triplet_swas[:,0], triplet_swas[:,1])\n",
    "    swaDelta = maxSwa - minSwa\n",
    "    triplet_swas[:,0] /= swaDelta\n",
    "    triplet_swas[:,1] /= swaDelta\n",
    "    triplet_swas[:,0] -= minSwa\n",
    "    triplet_swas[:,1] -= minSwa\n",
    "    print(\"Done auto-scaling triplet swas.\")\n",
    "    \n",
    "    return triplets, triplet_swas\n",
    "\n",
    "if os.path.isfile(cfg['triplets_path']+'.npy'):\n",
    "    print(\"Loading triplets from file...\")\n",
    "    triplets = np.load(cfg['triplets_path']+'.npy')\n",
    "    triplet_swas = np.load(cfg['triplet_swas_path']+'.npy')\n",
    "    print(\"done loading triplets from file.\")\n",
    "else:\n",
    "    triplets, triplet_swas = generate_triplets_2(num_triplets=cfg['num_triplets'],\n",
    "                                   phase_delta_min=-int(cfg['kmer_size']),\n",
    "                                   phase_delta_max=int(cfg['kmer_size']),\n",
    "                                   max_snps=cfg['max_snps'],\n",
    "                                   ndelta_phase=2, ndelta_snps=2)\n",
    "    print(\"Saving triplets to file...\")\n",
    "    np.save(cfg['triplets_path'], triplets)\n",
    "    np.save(cfg['triplet_swas_path'], triplet_swas)\n",
    "    print(\"done saving triplets to file.\")\n",
    "    \n",
    "print('done.')"
   ]
  },
  {
   "cell_type": "code",
   "execution_count": 8,
   "id": "d8bec20e-aa25-42fe-996b-55b71d067494",
   "metadata": {
    "tags": []
   },
   "outputs": [
    {
     "name": "stdout",
     "output_type": "stream",
     "text": [
      "Train set size: 80000\n",
      "Test set size: 20000\n",
      "done.\n",
      "[[0. 1. 0. ... 0. 0. 0.]\n",
      " [1. 0. 0. ... 0. 1. 1.]\n",
      " [0. 0. 0. ... 1. 0. 0.]\n",
      " ...\n",
      " [0. 0. 0. ... 0. 0. 0.]\n",
      " [0. 0. 0. ... 0. 0. 0.]\n",
      " [0. 0. 0. ... 0. 0. 0.]]\n",
      "[0.0375  0.02812]\n"
     ]
    }
   ],
   "source": [
    "# separate triplets into train and test sets\n",
    "train_set_size = int(len(triplets) * 0.8)\n",
    "test_set_size = len(triplets) - train_set_size\n",
    "\n",
    "if (triplets.shape[1] == 64):\n",
    "    triplets = np.transpose(triplets, (0,2,1,3)) # modify order for pytorch input\n",
    "\n",
    "# Map-type dataset\n",
    "class TripletsDataset(torch.utils.data.Dataset):\n",
    "  'Characterizes a dataset for PyTorch'\n",
    "  def __init__(self, data, labels):\n",
    "        self.labels = labels\n",
    "        self.data = data\n",
    "        if (dev != 'cpu'):\n",
    "            self.data = torch.from_numpy(self.data).to(torch.device(dev))\n",
    "            self.labels = torch.from_numpy(self.labels).to(torch.device(dev))\n",
    "\n",
    "  def __len__(self):\n",
    "        return len(self.labels)\n",
    "\n",
    "  def __getitem__(self, index):\n",
    "        return self.data[index], self.labels[index]\n",
    "\n",
    "train = TripletsDataset(triplets[0:train_set_size], triplet_swas[0:train_set_size])\n",
    "test = TripletsDataset(triplets[-test_set_size:], triplet_swas[-test_set_size:])\n",
    "\n",
    "train_loader = torch.utils.data.DataLoader(train, batch_size=cfg['batch_size'], shuffle=True)\n",
    "test_loader = torch.utils.data.DataLoader(test, batch_size=cfg['batch_size'], shuffle=False)\n",
    "\n",
    "print(\"Train set size:\", train_set_size)\n",
    "print(\"Test set size:\", test_set_size)\n",
    "print('done.')\n",
    "\n",
    "print(triplets[0,:,:,0])\n",
    "print(triplet_swas[0])"
   ]
  },
  {
   "cell_type": "code",
   "execution_count": 9,
   "id": "f21fd493-6e3d-4a87-8995-110ab4047259",
   "metadata": {
    "tags": []
   },
   "outputs": [
    {
     "name": "stdout",
     "output_type": "stream",
     "text": [
      "Training EPOCH 0 of 10:\n"
     ]
    },
    {
     "data": {
      "application/json": {
       "ascii": false,
       "bar_format": null,
       "colour": null,
       "elapsed": 0.010083198547363281,
       "initial": 0,
       "n": 0,
       "ncols": null,
       "nrows": null,
       "postfix": null,
       "prefix": "",
       "rate": null,
       "total": 800,
       "unit": "it",
       "unit_divisor": 1000,
       "unit_scale": false
      },
      "application/vnd.jupyter.widget-view+json": {
       "model_id": "0e7253c75d2d4a6fb5f0f30ac2862de3",
       "version_major": 2,
       "version_minor": 0
      },
      "text/plain": [
       "  0%|          | 0/800 [00:00<?, ?it/s]"
      ]
     },
     "metadata": {},
     "output_type": "display_data"
    },
    {
     "name": "stdout",
     "output_type": "stream",
     "text": [
      "    Training batch #200: samples=20000, totalLoss=80.5698013305664\n",
      "    Training batch #400: samples=40000, totalLoss=58.21382522583008\n",
      "    Training batch #600: samples=60000, totalLoss=57.50479507446289\n",
      "    Training batch #800: samples=80000, totalLoss=57.08212661743164\n",
      "Training EPOCH 1 of 10:\n"
     ]
    },
    {
     "data": {
      "application/json": {
       "ascii": false,
       "bar_format": null,
       "colour": null,
       "elapsed": 0.008030414581298828,
       "initial": 0,
       "n": 0,
       "ncols": null,
       "nrows": null,
       "postfix": null,
       "prefix": "",
       "rate": null,
       "total": 800,
       "unit": "it",
       "unit_divisor": 1000,
       "unit_scale": false
      },
      "application/vnd.jupyter.widget-view+json": {
       "model_id": "b9275ec206ee46008baf07095e29e952",
       "version_major": 2,
       "version_minor": 0
      },
      "text/plain": [
       "  0%|          | 0/800 [00:00<?, ?it/s]"
      ]
     },
     "metadata": {},
     "output_type": "display_data"
    },
    {
     "name": "stdout",
     "output_type": "stream",
     "text": [
      "    Training batch #200: samples=20000, totalLoss=55.73674392700195\n",
      "    Training batch #400: samples=40000, totalLoss=55.717567443847656\n",
      "    Training batch #600: samples=60000, totalLoss=55.378387451171875\n",
      "    Training batch #800: samples=80000, totalLoss=55.91329574584961\n",
      "Training EPOCH 2 of 10:\n"
     ]
    },
    {
     "data": {
      "application/json": {
       "ascii": false,
       "bar_format": null,
       "colour": null,
       "elapsed": 0.0074214935302734375,
       "initial": 0,
       "n": 0,
       "ncols": null,
       "nrows": null,
       "postfix": null,
       "prefix": "",
       "rate": null,
       "total": 800,
       "unit": "it",
       "unit_divisor": 1000,
       "unit_scale": false
      },
      "application/vnd.jupyter.widget-view+json": {
       "model_id": "59fccd67af6349da9a079fd5873f7903",
       "version_major": 2,
       "version_minor": 0
      },
      "text/plain": [
       "  0%|          | 0/800 [00:00<?, ?it/s]"
      ]
     },
     "metadata": {},
     "output_type": "display_data"
    },
    {
     "name": "stdout",
     "output_type": "stream",
     "text": [
      "    Training batch #200: samples=20000, totalLoss=53.917911529541016\n",
      "    Training batch #400: samples=40000, totalLoss=54.10609436035156\n",
      "    Training batch #600: samples=60000, totalLoss=54.004119873046875\n",
      "    Training batch #800: samples=80000, totalLoss=54.3918571472168\n",
      "Training EPOCH 3 of 10:\n"
     ]
    },
    {
     "data": {
      "application/json": {
       "ascii": false,
       "bar_format": null,
       "colour": null,
       "elapsed": 0.0074117183685302734,
       "initial": 0,
       "n": 0,
       "ncols": null,
       "nrows": null,
       "postfix": null,
       "prefix": "",
       "rate": null,
       "total": 800,
       "unit": "it",
       "unit_divisor": 1000,
       "unit_scale": false
      },
      "application/vnd.jupyter.widget-view+json": {
       "model_id": "bfb8474afcb149bba6ddb6477a014774",
       "version_major": 2,
       "version_minor": 0
      },
      "text/plain": [
       "  0%|          | 0/800 [00:00<?, ?it/s]"
      ]
     },
     "metadata": {},
     "output_type": "display_data"
    },
    {
     "name": "stdout",
     "output_type": "stream",
     "text": [
      "    Training batch #200: samples=20000, totalLoss=52.80364990234375\n",
      "    Training batch #400: samples=40000, totalLoss=52.79985046386719\n",
      "    Training batch #600: samples=60000, totalLoss=52.681182861328125\n",
      "    Training batch #800: samples=80000, totalLoss=52.76927185058594\n",
      "Training EPOCH 4 of 10:\n"
     ]
    },
    {
     "data": {
      "application/json": {
       "ascii": false,
       "bar_format": null,
       "colour": null,
       "elapsed": 0.007279634475708008,
       "initial": 0,
       "n": 0,
       "ncols": null,
       "nrows": null,
       "postfix": null,
       "prefix": "",
       "rate": null,
       "total": 800,
       "unit": "it",
       "unit_divisor": 1000,
       "unit_scale": false
      },
      "application/vnd.jupyter.widget-view+json": {
       "model_id": "9addaa3fb85044dda259cb5656cd96eb",
       "version_major": 2,
       "version_minor": 0
      },
      "text/plain": [
       "  0%|          | 0/800 [00:00<?, ?it/s]"
      ]
     },
     "metadata": {},
     "output_type": "display_data"
    },
    {
     "name": "stdout",
     "output_type": "stream",
     "text": [
      "    Training batch #200: samples=20000, totalLoss=51.30143356323242\n",
      "    Training batch #400: samples=40000, totalLoss=51.14896011352539\n",
      "    Training batch #600: samples=60000, totalLoss=51.930240631103516\n",
      "    Training batch #800: samples=80000, totalLoss=51.7202033996582\n",
      "Training EPOCH 5 of 10:\n"
     ]
    },
    {
     "data": {
      "application/json": {
       "ascii": false,
       "bar_format": null,
       "colour": null,
       "elapsed": 0.012700080871582031,
       "initial": 0,
       "n": 0,
       "ncols": null,
       "nrows": null,
       "postfix": null,
       "prefix": "",
       "rate": null,
       "total": 800,
       "unit": "it",
       "unit_divisor": 1000,
       "unit_scale": false
      },
      "application/vnd.jupyter.widget-view+json": {
       "model_id": "20eafdc29cd643afbb71e70a930fecc5",
       "version_major": 2,
       "version_minor": 0
      },
      "text/plain": [
       "  0%|          | 0/800 [00:00<?, ?it/s]"
      ]
     },
     "metadata": {},
     "output_type": "display_data"
    },
    {
     "name": "stdout",
     "output_type": "stream",
     "text": [
      "    Training batch #200: samples=20000, totalLoss=50.25717544555664\n",
      "    Training batch #400: samples=40000, totalLoss=50.17593765258789\n",
      "    Training batch #600: samples=60000, totalLoss=50.58475112915039\n",
      "    Training batch #800: samples=80000, totalLoss=50.65525436401367\n",
      "Training EPOCH 6 of 10:\n"
     ]
    },
    {
     "data": {
      "application/json": {
       "ascii": false,
       "bar_format": null,
       "colour": null,
       "elapsed": 0.010890960693359375,
       "initial": 0,
       "n": 0,
       "ncols": null,
       "nrows": null,
       "postfix": null,
       "prefix": "",
       "rate": null,
       "total": 800,
       "unit": "it",
       "unit_divisor": 1000,
       "unit_scale": false
      },
      "application/vnd.jupyter.widget-view+json": {
       "model_id": "91c72db93d564467a695840fc95d1cfc",
       "version_major": 2,
       "version_minor": 0
      },
      "text/plain": [
       "  0%|          | 0/800 [00:00<?, ?it/s]"
      ]
     },
     "metadata": {},
     "output_type": "display_data"
    },
    {
     "name": "stdout",
     "output_type": "stream",
     "text": [
      "    Training batch #200: samples=20000, totalLoss=49.03047180175781\n",
      "    Training batch #400: samples=40000, totalLoss=49.1326789855957\n",
      "    Training batch #600: samples=60000, totalLoss=49.24824905395508\n",
      "    Training batch #800: samples=80000, totalLoss=49.67528533935547\n",
      "Training EPOCH 7 of 10:\n"
     ]
    },
    {
     "data": {
      "application/json": {
       "ascii": false,
       "bar_format": null,
       "colour": null,
       "elapsed": 0.011085987091064453,
       "initial": 0,
       "n": 0,
       "ncols": null,
       "nrows": null,
       "postfix": null,
       "prefix": "",
       "rate": null,
       "total": 800,
       "unit": "it",
       "unit_divisor": 1000,
       "unit_scale": false
      },
      "application/vnd.jupyter.widget-view+json": {
       "model_id": "ede6c38526e04a61b36b434b5d62202e",
       "version_major": 2,
       "version_minor": 0
      },
      "text/plain": [
       "  0%|          | 0/800 [00:00<?, ?it/s]"
      ]
     },
     "metadata": {},
     "output_type": "display_data"
    },
    {
     "name": "stdout",
     "output_type": "stream",
     "text": [
      "    Training batch #200: samples=20000, totalLoss=48.05863952636719\n",
      "    Training batch #400: samples=40000, totalLoss=48.32472610473633\n",
      "    Training batch #600: samples=60000, totalLoss=48.231204986572266\n",
      "    Training batch #800: samples=80000, totalLoss=48.28825378417969\n",
      "Training EPOCH 8 of 10:\n"
     ]
    },
    {
     "data": {
      "application/json": {
       "ascii": false,
       "bar_format": null,
       "colour": null,
       "elapsed": 0.007608890533447266,
       "initial": 0,
       "n": 0,
       "ncols": null,
       "nrows": null,
       "postfix": null,
       "prefix": "",
       "rate": null,
       "total": 800,
       "unit": "it",
       "unit_divisor": 1000,
       "unit_scale": false
      },
      "application/vnd.jupyter.widget-view+json": {
       "model_id": "1a15118e31de44e39d75678f3a437e86",
       "version_major": 2,
       "version_minor": 0
      },
      "text/plain": [
       "  0%|          | 0/800 [00:00<?, ?it/s]"
      ]
     },
     "metadata": {},
     "output_type": "display_data"
    },
    {
     "name": "stdout",
     "output_type": "stream",
     "text": [
      "    Training batch #200: samples=20000, totalLoss=47.04299545288086\n",
      "    Training batch #400: samples=40000, totalLoss=47.120765686035156\n",
      "    Training batch #600: samples=60000, totalLoss=47.03078842163086\n",
      "    Training batch #800: samples=80000, totalLoss=47.598731994628906\n",
      "Training EPOCH 9 of 10:\n"
     ]
    },
    {
     "data": {
      "application/json": {
       "ascii": false,
       "bar_format": null,
       "colour": null,
       "elapsed": 0.011145591735839844,
       "initial": 0,
       "n": 0,
       "ncols": null,
       "nrows": null,
       "postfix": null,
       "prefix": "",
       "rate": null,
       "total": 800,
       "unit": "it",
       "unit_divisor": 1000,
       "unit_scale": false
      },
      "application/vnd.jupyter.widget-view+json": {
       "model_id": "90c7b41a18284434bdd539898ec7bdb0",
       "version_major": 2,
       "version_minor": 0
      },
      "text/plain": [
       "  0%|          | 0/800 [00:00<?, ?it/s]"
      ]
     },
     "metadata": {},
     "output_type": "display_data"
    },
    {
     "name": "stdout",
     "output_type": "stream",
     "text": [
      "    Training batch #200: samples=20000, totalLoss=45.925655364990234\n",
      "    Training batch #400: samples=40000, totalLoss=46.279815673828125\n",
      "    Training batch #600: samples=60000, totalLoss=46.53757858276367\n",
      "    Training batch #800: samples=80000, totalLoss=46.382137298583984\n",
      "Training complete. saving model...\n",
      "done saving model.\n"
     ]
    }
   ],
   "source": [
    "# Training\n",
    "\n",
    "import os\n",
    "\n",
    "model = SWAEmb()\n",
    "scaler = torch.cuda.amp.GradScaler(enabled=cfg['use_pytorch_amp'])\n",
    "\n",
    "requireTraining=True\n",
    "if os.path.isfile(cfg['model_bin']) and not cfg['force_retrain_model']:\n",
    "    print(\"Loading saved model...\")\n",
    "    model.load_state_dict(torch.load(cfg['model_bin']))\n",
    "    print(\"done loading saved model.\")\n",
    "    requireTraining = False\n",
    "    \n",
    "if (dev != 'cpu'):\n",
    "    model.to(torch.device(dev))\n",
    "\n",
    "criterion = TripletLoss()\n",
    "optimizer = torch.optim.Adam(model.parameters(), lr=cfg['learning_rate']) \n",
    "\n",
    "if requireTraining:\n",
    "    for epoch in range(cfg['epochs']):\n",
    "        batchNum = 0\n",
    "        totalLoss = 0\n",
    "        total = 0\n",
    "        print(\"Training EPOCH {} of {}:\".format(epoch, cfg['epochs']))\n",
    "        for APN, E in tqdm(train_loader):\n",
    "            autocast_devtype = 'cpu'\n",
    "            if (dev != 'cpu'):\n",
    "                autocast_devtype = 'cuda'\n",
    "            with torch.autocast(device_type=autocast_devtype, dtype=getattr(torch, cfg['parameter_dtype']), enabled=cfg['use_pytorch_amp']):\n",
    "                yA, yP, yN = model.forward(APN)\n",
    "                loss = criterion(yA, yP, yN, E[:,0], E[:,1])\n",
    "                \n",
    "            scaler.scale(loss).backward()\n",
    "            scaler.step(optimizer)\n",
    "            scaler.update()\n",
    "            \n",
    "            optimizer.zero_grad()\n",
    "            \n",
    "            total += yA.shape[0]\n",
    "            totalLoss += loss\n",
    "            batchNum += 1\n",
    "    \n",
    "            if (batchNum % cfg['report_every_n_batches'] == 0) and (batchNum != 0):\n",
    "                print(\"    Training batch #{}: samples={}, totalLoss={}\".format(batchNum, total, totalLoss))\n",
    "                totalLoss = 0\n",
    "\n",
    "    print(\"Training complete. saving model...\")\n",
    "    torch.save(model.state_dict(), cfg['model_bin'])\n",
    "    print(\"done saving model.\")"
   ]
  },
  {
   "cell_type": "code",
   "execution_count": 67,
   "id": "a7a31da3-8d0e-44a8-afee-2d1824152bf0",
   "metadata": {
    "tags": []
   },
   "outputs": [
    {
     "name": "stdout",
     "output_type": "stream",
     "text": [
      "Min/Max/Avg Alignment Loss: 0.01397613063454628/1.2994811534881592/0.027202621459960937\n",
      "Min/Max/Avg Triplet Loss: 0.0/0.7846701741218567/0.024890673828125\n",
      "(800000, 2)\n",
      "0.2512473 0.0012472868\n"
     ]
    },
    {
     "data": {
      "image/png": "[encoded data removed]",
      "text/plain": [
       "<Figure size 1000x1000 with 5 Axes>"
      ]
     },
     "metadata": {},
     "output_type": "display_data"
    }
   ],
   "source": [
    "import matplotlib.pyplot as plt\n",
    "\n",
    "fig = plt.figure(figsize=(10,10))\n",
    "\n",
    "ax1 = fig.add_subplot(5, 1, 1)\n",
    "plt.subplots_adjust(hspace=0.8)\n",
    "\n",
    "ax1.plot(criterion.align_loss_samples)\n",
    "ax1.set_title(\"Align Loss Samples\")\n",
    "ax1.set_ylim(0.0, 0.06)\n",
    "\n",
    "ax2 = fig.add_subplot(5, 1, 2)\n",
    "ax2.hist(criterion.align_loss_samples, bins=200)\n",
    "ax2.set_title(\"Align Loss Histogram\")\n",
    "ax2.set_yscale('log')\n",
    "\n",
    "ax3 = fig.add_subplot(5, 1, 3)\n",
    "ax3.plot(criterion.triplet_loss_samples)\n",
    "ax3.set_title(\"Triplet Loss Samples\")\n",
    "ax3.set_ylim(0, 1.0)\n",
    "\n",
    "ax4 = fig.add_subplot(5, 1, 4)\n",
    "ax4.hist(criterion.triplet_loss_samples, bins=200)\n",
    "ax4.set_title(\"Triplet Loss Histogram\")\n",
    "ax4.set_yscale('log')\n",
    "\n",
    "print(\"Min/Max/Avg Alignment Loss: {}/{}/{}\".format(\n",
    "    np.min(criterion.align_loss_samples),\n",
    "    np.max(criterion.align_loss_samples),\n",
    "    np.sum(criterion.align_loss_samples)/len(criterion.align_loss_samples)\n",
    "))\n",
    "print(\"Min/Max/Avg Triplet Loss: {}/{}/{}\".format(\n",
    "    np.min(criterion.triplet_loss_samples),\n",
    "    np.max(criterion.triplet_loss_samples),\n",
    "    np.sum(criterion.triplet_loss_samples)/len(criterion.triplet_loss_samples)))\n",
    "\n",
    "ax5 = fig.add_subplot(5, 1, 5)\n",
    "\n",
    "if (criterion.triplet_loss_margin_samples.shape[0] > 800000):\n",
    "    criterion.triplet_loss_margin_samples = criterion.triplet_loss_margin_samples.reshape(-1, 2)\n",
    "    \n",
    "print(criterion.triplet_loss_margin_samples.shape)\n",
    "print(criterion.triplet_loss_margin_samples[0][0], criterion.triplet_loss_margin_samples[0][1])\n",
    "ax5.plot(criterion.triplet_loss_margin_samples[:][1])\n",
    "\n",
    "plt.show()"
   ]
  },
  {
   "cell_type": "code",
   "execution_count": null,
   "id": "e0c08c13-fbbd-4cfb-85f3-daed1ecffefe",
   "metadata": {
    "tags": []
   },
   "outputs": [],
   "source": [
    "# Testing\n",
    "\n",
    "from skbio.alignment import StripedSmithWaterman\n",
    "\n",
    "def normalized_concordance(sA, sB, swa):\n",
    "    tspan = swa['target_end_optimal'] - swa['target_begin']\n",
    "    tval = sB[swa['target_begin']:swa['target_end_optimal']+1]\n",
    "    qspan = swa['query_end'] - swa['query_begin']\n",
    "    qval = sA[swa['query_begin']:swa['query_end']+1]\n",
    "    concordance = sum(a==b for a, b in zip(tval, qval))\n",
    "    return concordance / cfg['kmer_size']\n",
    "\n",
    "def get_three_uniqe_indexes(max_index):\n",
    "    vals=np.empty((0), dtype=int)\n",
    "    while len(vals) < 3:\n",
    "        val = np.random.choice(max_index-1)\n",
    "        if val in vals:\n",
    "            continue\n",
    "        vals = np.append(vals, val)\n",
    "    return vals\n",
    "\n",
    "batchNum = 0\n",
    "totalLoss = 0\n",
    "total = 0\n",
    "match = 0\n",
    "mismatch = 0\n",
    "discernment_error = np.empty((0))\n",
    "mismatch_error = np.empty((0))\n",
    "for APN, E in tqdm(test_loader):\n",
    "\n",
    "    with torch.autocast(device_type=autocast_devtype, dtype=getattr(torch, cfg['parameter_dtype']), enabled=cfg['use_pytorch_amp']):\n",
    "        yA, yP, yN = model.forward(APN)\n",
    "        loss = criterion(yA, yP, yN, E[:,0], E[:,1])\n",
    "        \n",
    "    total += yA.shape[0]\n",
    "    totalLoss += loss\n",
    "        \n",
    "    for i, iAPN in enumerate(APN):\n",
    "        if False: # for debugging purposes.\n",
    "            iA = torch.transpose(iAPN[:, :, 0], 0, 1)\n",
    "            iP = torch.transpose(iAPN[:, :, 1], 0, 1)\n",
    "            iN = torch.transpose(iAPN[:, :, 2], 0, 1)\n",
    "        \n",
    "            if (dev != 'cpu'):\n",
    "                iA = iA.cpu()\n",
    "                iP = iP.cpu()\n",
    "                iN = iN.cpu()\n",
    "            \n",
    "            sA = onehot_to_seqstr(iA)\n",
    "            sP = onehot_to_seqstr(iP)\n",
    "            sN = onehot_to_seqstr(iN)\n",
    "            #print(\"sA: {}\".format(sA))\n",
    "            #print(\"sP: {}\".format(sP))\n",
    "            #print(\"sN: {}\".format(sN))\n",
    "            sswA = StripedSmithWaterman(sA, score_size=2)\n",
    "            swaAP = sswA(sP)\n",
    "            swaAN = sswA(sN)\n",
    "        \n",
    "            nconcordAP = normalized_concordance(sA, sP, swaAP)\n",
    "            nconcordAN = normalized_concordance(sA, sN, swaAN)\n",
    "            #print(\"ssw(A,P): {}, ssw(A,N): {}\".format(\n",
    "            #    swaAP['optimal_alignment_score'],\n",
    "            #    swaAN['optimal_alignment_score']\n",
    "            #))\n",
    "            \n",
    "\n",
    "        embestAP = F.cosine_similarity(yA[i].unsqueeze(0), yP[i].unsqueeze(0)).item()\n",
    "        embestAN = F.cosine_similarity(yA[i].unsqueeze(0), yN[i].unsqueeze(0)).item()\n",
    "        #embestAP = torch.abs(torch.dot(yA[i], yP[i]) / (torch.norm(yA[i].unsqueeze(0)) * torch.norm(yP[i].unsqueeze(0))))\n",
    "        #embestAN = torch.abs(torch.dot(yA[i], yN[i]) / (torch.norm(yA[i].unsqueeze(0)) * torch.norm(yN[i].unsqueeze(0))))\n",
    " \n",
    "        #print(embestAP-embestAN)\n",
    "        discernment_error = np.append(discernment_error, np.abs(embestAN-embestAP))\n",
    "    \n",
    "    while True:\n",
    "        a1i, a2i, a3i = get_three_uniqe_indexes(cfg['batch_size'])\n",
    "        i1 = torch.transpose(APN[a1i, :, :, 0], 0, 1)\n",
    "        i2 = torch.transpose(APN[a2i, :, :, 0], 0, 1)\n",
    "        i3 = torch.transpose(APN[a3i, :, :, 0], 0, 1)\n",
    "        y1 = yA[a1i].unsqueeze(0)\n",
    "        y2 = yA[a2i].unsqueeze(0)\n",
    "        y3 = yA[a3i].unsqueeze(0)\n",
    "        \n",
    "        if (dev != 'cpu'):\n",
    "            i1 = i1.cpu()\n",
    "            i2 = i2.cpu()\n",
    "            i3 = i3.cpu()\n",
    "           \n",
    "        s1 = onehot_to_seqstr(i1)\n",
    "        s2 = onehot_to_seqstr(i2)\n",
    "        s3 = onehot_to_seqstr(i3)\n",
    "        ssw1 = StripedSmithWaterman(s1, score_size=2)\n",
    "        swa12 = ssw1(s2)\n",
    "        swa13 = ssw1(s3)\n",
    "        embest12 = F.cosine_similarity(y1, y2).item()\n",
    "        embest13 = F.cosine_similarity(y1, y3).item()\n",
    "        #embest12 = torch.abs(torch.dot(y1[0], y2[0]) / (torch.norm(y1) * torch.norm(y2)))\n",
    "        #embest13 = torch.abs(torch.dot(y1[0], y3[0]) / (torch.norm(y1) * torch.norm(y3)))\n",
    "\n",
    "        #print(swa12['optimal_alignment_score'], swa13['optimal_alignment_score'])\n",
    "        \n",
    "        if swa12['optimal_alignment_score'] == swa13['optimal_alignment_score']:\n",
    "            continue\n",
    "            \n",
    "        if swa12['optimal_alignment_score'] > swa13['optimal_alignment_score']:\n",
    "            if embest12 > embest13:\n",
    "                match += 1\n",
    "            else:\n",
    "                mismatch += 1\n",
    "                mismatch_error = np.append(mismatch_error, np.abs(embest12-embest13))\n",
    "        else:\n",
    "            if embest13 > embest12:\n",
    "                match += 1\n",
    "            else:\n",
    "                mismatch += 1\n",
    "                mismatch_error = np.append(mismatch_error, np.abs(embest12-embest13)) \n",
    "        break\n",
    "        \n",
    "    batchNum = batchNum + 1\n",
    "    if (batchNum % 100 == 0) and (batchNum != 0):\n",
    "        print(\"Batch: {}...\".format(batchNum))\n",
    "\n",
    "print(\"Total: {}, NormLoss: {}, Match: {} of {} ({})\".format(\n",
    "    total, (totalLoss/total), match, match+mismatch, match/(match+mismatch)))"
   ]
  },
  {
   "cell_type": "code",
   "execution_count": null,
   "id": "f1f6ef5f-8323-4b4d-a311-48fc8b404b96",
   "metadata": {
    "tags": []
   },
   "outputs": [],
   "source": [
    "max_discernment_error = np.max(discernment_error)\n",
    "max_mismatch_error = np.max(mismatch_error)\n",
    "\n",
    "fig, axs = plt.subplots(2, sharex=False)\n",
    "plt.subplots_adjust(hspace=0.5)\n",
    "axs[0].hist(discernment_error, bins=40, range=[0.0, max_discernment_error])\n",
    "axs[0].set_title(\"Discernment Error max={}\".format(max_discernment_error))\n",
    "axs[1].hist(mismatch_error, bins=40, range=[0.0, max_mismatch_error])\n",
    "axs[1].set_title(\"SWAEmb Type-I Estimation Error max={}\".format(max_mismatch_error))"
   ]
  }
 ],
 "metadata": {
  "kernelspec": {
   "display_name": "conda_pytorch_p39",
   "language": "python",
   "name": "conda_pytorch_p39"
  },
  "language_info": {
   "codemirror_mode": {
    "name": "ipython",
    "version": 3
   },
   "file_extension": ".py",
   "mimetype": "text/x-python",
   "name": "python",
   "nbconvert_exporter": "python",
   "pygments_lexer": "ipython3",
   "version": "3.9.15"
  }
 },
 "nbformat": 4,
 "nbformat_minor": 5
}
